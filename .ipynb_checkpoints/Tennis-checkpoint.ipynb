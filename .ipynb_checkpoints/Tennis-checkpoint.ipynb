{
 "cells": [
  {
   "cell_type": "markdown",
   "metadata": {},
   "source": [
    "# Collaboration and Competition\n",
    "\n",
    "---\n",
    "\n",
    "In this notebook, you will learn how to use the Unity ML-Agents environment for the third project of the [Deep Reinforcement Learning Nanodegree](https://www.udacity.com/course/deep-reinforcement-learning-nanodegree--nd893) program.\n",
    "\n",
    "### 1. Start the Environment\n",
    "\n",
    "We begin by importing the necessary packages.  If the code cell below returns an error, please revisit the project instructions to double-check that you have installed [Unity ML-Agents](https://github.com/Unity-Technologies/ml-agents/blob/master/docs/Installation.md) and [NumPy](http://www.numpy.org/)."
   ]
  },
  {
   "cell_type": "code",
   "execution_count": 1,
   "metadata": {},
   "outputs": [],
   "source": [
    "from unityagents import UnityEnvironment\n",
    "import numpy as np"
   ]
  },
  {
   "cell_type": "markdown",
   "metadata": {},
   "source": [
    "Next, we will start the environment!  **_Before running the code cell below_**, change the `file_name` parameter to match the location of the Unity environment that you downloaded.\n",
    "\n",
    "- **Mac**: `\"path/to/Tennis.app\"`\n",
    "- **Windows** (x86): `\"path/to/Tennis_Windows_x86/Tennis.exe\"`\n",
    "- **Windows** (x86_64): `\"path/to/Tennis_Windows_x86_64/Tennis.exe\"`\n",
    "- **Linux** (x86): `\"path/to/Tennis_Linux/Tennis.x86\"`\n",
    "- **Linux** (x86_64): `\"path/to/Tennis_Linux/Tennis.x86_64\"`\n",
    "- **Linux** (x86, headless): `\"path/to/Tennis_Linux_NoVis/Tennis.x86\"`\n",
    "- **Linux** (x86_64, headless): `\"path/to/Tennis_Linux_NoVis/Tennis.x86_64\"`\n",
    "\n",
    "For instance, if you are using a Mac, then you downloaded `Tennis.app`.  If this file is in the same folder as the notebook, then the line below should appear as follows:\n",
    "```\n",
    "env = UnityEnvironment(file_name=\"Tennis.app\")\n",
    "```"
   ]
  },
  {
   "cell_type": "code",
   "execution_count": 2,
   "metadata": {},
   "outputs": [
    {
     "name": "stderr",
     "output_type": "stream",
     "text": [
      "INFO:unityagents:\n",
      "'Academy' started successfully!\n",
      "Unity Academy name: Academy\n",
      "        Number of Brains: 1\n",
      "        Number of External Brains : 1\n",
      "        Lesson number : 0\n",
      "        Reset Parameters :\n",
      "\t\t\n",
      "Unity brain name: TennisBrain\n",
      "        Number of Visual Observations (per agent): 0\n",
      "        Vector Observation space type: continuous\n",
      "        Vector Observation space size (per agent): 8\n",
      "        Number of stacked Vector Observation: 3\n",
      "        Vector Action space type: continuous\n",
      "        Vector Action space size (per agent): 2\n",
      "        Vector Action descriptions: , \n"
     ]
    }
   ],
   "source": [
    "env = UnityEnvironment(file_name=\"Tennis.app\")"
   ]
  },
  {
   "cell_type": "markdown",
   "metadata": {},
   "source": [
    "Environments contain **_brains_** which are responsible for deciding the actions of their associated agents. Here we check for the first brain available, and set it as the default brain we will be controlling from Python."
   ]
  },
  {
   "cell_type": "code",
   "execution_count": 3,
   "metadata": {},
   "outputs": [],
   "source": [
    "# get the default brain\n",
    "brain_name = env.brain_names[0]\n",
    "brain = env.brains[brain_name]"
   ]
  },
  {
   "cell_type": "markdown",
   "metadata": {},
   "source": [
    "### 2. Examine the State and Action Spaces\n",
    "\n",
    "In this environment, two agents control rackets to bounce a ball over a net. If an agent hits the ball over the net, it receives a reward of +0.1.  If an agent lets a ball hit the ground or hits the ball out of bounds, it receives a reward of -0.01.  Thus, the goal of each agent is to keep the ball in play.\n",
    "\n",
    "The observation space consists of 8 variables corresponding to the position and velocity of the ball and racket. Two continuous actions are available, corresponding to movement toward (or away from) the net, and jumping. \n",
    "\n",
    "Run the code cell below to print some information about the environment."
   ]
  },
  {
   "cell_type": "code",
   "execution_count": 4,
   "metadata": {},
   "outputs": [
    {
     "name": "stdout",
     "output_type": "stream",
     "text": [
      "Number of agents: 2\n",
      "Size of each action: 2\n",
      "There are 2 agents. Each observes a state with length: 24\n",
      "The state for the first agent looks like: [ 0.          0.          0.          0.          0.          0.\n",
      "  0.          0.          0.          0.          0.          0.\n",
      "  0.          0.          0.          0.         -6.65278625 -1.5\n",
      " -0.          0.          6.83172083  6.         -0.          0.        ]\n"
     ]
    }
   ],
   "source": [
    "# reset the environment\n",
    "env_info = env.reset(train_mode=True)[brain_name]\n",
    "\n",
    "# number of agents \n",
    "num_agents = len(env_info.agents)\n",
    "print('Number of agents:', num_agents)\n",
    "\n",
    "# size of each action\n",
    "action_size = brain.vector_action_space_size\n",
    "print('Size of each action:', action_size)\n",
    "\n",
    "# examine the state space \n",
    "states = env_info.vector_observations\n",
    "state_size = states.shape[1]\n",
    "print('There are {} agents. Each observes a state with length: {}'.format(states.shape[0], state_size))\n",
    "print('The state for the first agent looks like:', states[0])"
   ]
  },
  {
   "cell_type": "markdown",
   "metadata": {},
   "source": [
    "When finished, you can close the environment."
   ]
  },
  {
   "cell_type": "markdown",
   "metadata": {},
   "source": [
    "### 4. It's Your Turn!\n",
    "\n",
    "Now it's your turn to train your own agent to solve the environment!  When training the environment, set `train_mode=True`, so that the line for resetting the environment looks like the following:\n",
    "```python\n",
    "env_info = env.reset(train_mode=True)[brain_name]\n",
    "```"
   ]
  },
  {
   "cell_type": "markdown",
   "metadata": {},
   "source": [
    "### MADDPG Traning setup"
   ]
  },
  {
   "cell_type": "code",
   "execution_count": 5,
   "metadata": {},
   "outputs": [],
   "source": [
    "import matplotlib.pyplot as plt\n",
    "from collections import namedtuple, deque\n",
    "%matplotlib inline\n",
    "\n",
    "def ddpg_train(n_episodes=500, max_t=1000, print_every=100):\n",
    "    scores_window = deque(maxlen=print_every)\n",
    "    \n",
    "    scores_list = []\n",
    "    \n",
    "    for i_episode in range(1, n_episodes+1):\n",
    "        agents_scores = np.zeros(num_agents)\n",
    "        env_info = env.reset(train_mode=True)[brain_name] # reset the environment\n",
    "        states = env_info.vector_observations\n",
    "        agent.reset()\n",
    "        \n",
    "        for t in range(max_t): \n",
    "            actions = agent.act(states)\n",
    "            env_info = env.step(actions)[brain_name]           # send all actions to tne environment\n",
    "            next_states = env_info.vector_observations         # get next state (for each agent)\n",
    "            rewards = env_info.rewards                         # get reward (for each agent)\n",
    "            dones = env_info.local_done                        # see if episode finished\n",
    "            agent.step(states, actions, rewards, next_states, dones)\n",
    "            states = next_states\n",
    "            agents_scores += rewards\n",
    "            if any(dones):                                       # exit loop if episode finished\n",
    "                break\n",
    "        \n",
    "        max_score = np.max(agents_scores)\n",
    "        scores_list.append(max_score)\n",
    "        scores_window.append(max_score)\n",
    "\n",
    "  \n",
    "        #print('\\rScore (max over agents) from episode {}: {}'.format(i_episode,max_score ), end=\"\")\n",
    "        print('\\rEpisode {}\\tCurrent Score: {:.2f}\\tAverage Score: {:.2f}'.format(i_episode, max_score, np.mean(scores_window)), end=\"\")\n",
    "\n",
    "        if i_episode % print_every == 0:\n",
    "            #print('\\rScore (max over agents) from episode {}: {}'.format(i_episode, max_score))\n",
    "            print('\\rEpisode {}\\tCurrent Score: {:.2f}\\tAverage Score: {:.2f}'.format(i_episode, max_score, np.mean(scores_window)))\n",
    "            \n",
    "        if np.mean(scores_window) >= 0.5 and i_episode >= 100:\n",
    "            #print('\\nEnvironment solved Score (max over agents) from episode {}: {}'.format(i_episode, max_score))\n",
    "            print('\\nEnvironment solved in {:d} episodes!\\tAverage Score: {:.2f}'.format(i_episode, np.mean(scores_window)))\n",
    "            break\n",
    "\n",
    "    return scores_list"
   ]
  },
  {
   "cell_type": "markdown",
   "metadata": {},
   "source": [
    "### Hyperparamters and Training the Agent"
   ]
  },
  {
   "cell_type": "code",
   "execution_count": 6,
   "metadata": {},
   "outputs": [
    {
     "name": "stdout",
     "output_type": "stream",
     "text": [
      "Episode 100\tCurrent Score: 0.00\tAverage Score: 0.01\n",
      "Episode 200\tCurrent Score: 0.10\tAverage Score: 0.03\n",
      "Episode 300\tCurrent Score: 0.09\tAverage Score: 0.03\n",
      "Episode 400\tCurrent Score: 0.00\tAverage Score: 0.04\n",
      "Episode 500\tCurrent Score: 0.00\tAverage Score: 0.05\n",
      "Episode 600\tCurrent Score: 0.00\tAverage Score: 0.04\n",
      "Episode 700\tCurrent Score: 0.09\tAverage Score: 0.07\n",
      "Episode 800\tCurrent Score: 0.00\tAverage Score: 0.10\n",
      "Episode 900\tCurrent Score: 0.10\tAverage Score: 0.11\n",
      "Episode 1000\tCurrent Score: 0.10\tAverage Score: 0.18\n",
      "Episode 1100\tCurrent Score: 0.20\tAverage Score: 0.36\n",
      "Episode 1200\tCurrent Score: 0.30\tAverage Score: 0.38\n",
      "Episode 1261\tCurrent Score: 2.10\tAverage Score: 0.51\n",
      "Environment solved in 1261 episodes!\tAverage Score: 0.51\n",
      "Environment solved in 3182.52 seconds\n"
     ]
    }
   ],
   "source": [
    "#==================================================================\n",
    "#======================Main Program Call===========================\n",
    "#==================================================================\n",
    "import time\n",
    "import pandas as pd\n",
    "#from ddpg_agent import Agent\n",
    "from MADDPG_agent import Agent\n",
    "\n",
    "\n",
    "#================ Hyperpramters =========================\n",
    "\n",
    "BUFFER_SIZE = int(1e6)  # replay buffer size\n",
    "BATCH_SIZE = 512        # minibatch size\n",
    "GAMMA = 0.99            # discount factor\n",
    "TAU = 1e-3              # for soft update of target parameters\n",
    "LR_ACTOR = 1e-4         # learning rate of the actor \n",
    "LR_CRITIC = 3e-4        # learning rate of the critic\n",
    "WEIGHT_DECAY = 0   # L2 weight decay\n",
    "\n",
    "ACTOR_HL_SIZE= [256, 128]         #Actor Hidden layers\n",
    "CRITIC_HL_SIZE= [256, 128]        #Critic Hidden layers\n",
    "\n",
    "start_time = time.time()          #Start Timer\n",
    "\n",
    "model_num = \"512_256_128_1e-4_3e-4_2\"                   #Model Number\n",
    "\n",
    "#Creating an Agent with state size and action size matching the enivorment given parameters [State = 33, actions=4]\n",
    "agent = Agent (num_agents, state_size, action_size, 0,\n",
    "               BUFFER_SIZE, BATCH_SIZE, GAMMA, TAU, LR_ACTOR, LR_CRITIC, WEIGHT_DECAY,\n",
    "              ACTOR_HL_SIZE, CRITIC_HL_SIZE)\n",
    "\n",
    "#================ Run Training =========================\n",
    "\n",
    "scores = ddpg_train(n_episodes=3000, max_t=2000, print_every=100)\n",
    "\n",
    "#Plot the time needed to finish the training \n",
    "print(\"Environment solved in {:.2f} seconds\".format(time.time() - start_time))\n"
   ]
  },
  {
   "cell_type": "markdown",
   "metadata": {},
   "source": [
    "### Ploting results and saving the trained model"
   ]
  },
  {
   "cell_type": "code",
   "execution_count": 7,
   "metadata": {},
   "outputs": [
    {
     "data": {
      "image/png": "[encoded data removed]",
      "text/plain": [
       "<Figure size 432x288 with 1 Axes>"
      ]
     },
     "metadata": {
      "needs_background": "light"
     },
     "output_type": "display_data"
    }
   ],
   "source": [
    "import torch\n",
    "import os \n",
    "import pandas as pd\n",
    "\n",
    "model_num = \"512_256_128_1e-4_3e-4_2\"                  #Model Number\n",
    "#Save the agent actor-critic network models\n",
    "torch.save(agent.actor_local_1.state_dict(), 'actor_model_1_{}.pth'.format(model_num))\n",
    "torch.save(agent.critic_local_1.state_dict(),'critic_model_1_{}.pth'.format(model_num))\n",
    "torch.save(agent.actor_local_2.state_dict(), 'actor_model_2_{}.pth'.format(model_num))\n",
    "torch.save(agent.critic_local_2.state_dict(),'critic_model_2_{}.pth'.format(model_num))\n",
    "\n",
    "#================ Plot results =========================\n",
    "#Plot results\n",
    "fig = plt.figure()\n",
    "ax = fig.add_subplot(111)\n",
    "plt.plot(np.arange(1, len(scores)+1), scores)\n",
    "plt.ylabel('Score')\n",
    "plt.xlabel('Episode #')\n",
    "plt.show()\n",
    "\n",
    "#================ Save Results =========================\n",
    "os.system(f'mkdir -p results/model-{model_num}')\n",
    "df = pd.DataFrame({'episode':np.arange(len(scores)),'score':scores})\n",
    "df.set_index('episode', inplace=True)\n",
    "df.to_csv('results/model-{}/scores.csv'.format(model_num))"
   ]
  },
  {
   "cell_type": "markdown",
   "metadata": {},
   "source": [
    "### Watch trained agent"
   ]
  },
  {
   "cell_type": "code",
   "execution_count": null,
   "metadata": {},
   "outputs": [],
   "source": [
    "def run_smart_agent(agent):\n",
    "    for i in range(1, 6):   \n",
    "        env_info = env.reset(train_mode=False)[brain_name]\n",
    "        states = env_info.vector_observations\n",
    "        scores = np.zeros(num_agents)\n",
    "        while True:\n",
    "            actions= agent.act(states, add_noise=False)\n",
    "            env_info = env.step(actions)[brain_name]           # send all actions to tne environment\n",
    "            next_states = env_info.vector_observations         # get next state (for each agent)\n",
    "            rewards = env_info.rewards                         # get reward (for each agent)\n",
    "            dones = env_info.local_done                        # see if episode finished\n",
    "            states = next_states\n",
    "            scores += rewards\n",
    "            if any(dones):                                       # exit loop if episode finished\n",
    "                break\n",
    "        max_score = np.max(scores)\n",
    "        print(\"Score: {}\".format(max_score))"
   ]
  },
  {
   "cell_type": "code",
   "execution_count": 10,
   "metadata": {},
   "outputs": [
    {
     "name": "stdout",
     "output_type": "stream",
     "text": [
      "Score: 0.10000000149011612\n",
      "Score: 0.4000000059604645\n",
      "Score: 2.600000038743019\n",
      "Score: 2.7000000402331352\n",
      "Score: 0.9000000134110451\n"
     ]
    }
   ],
   "source": [
    "import torch\n",
    "from MADDPG_agent import Agent\n",
    "#==================================================================\n",
    "#======================Watch The Trained Agent ===========================\n",
    "#==================================================================\n",
    "\n",
    "BUFFER_SIZE = int(1e6)  # replay buffer size\n",
    "BATCH_SIZE = 512        # minibatch size\n",
    "GAMMA = 0.99            # discount factor\n",
    "TAU = 1e-3              # for soft update of target parameters\n",
    "LR_ACTOR = 1e-4         # learning rate of the actor \n",
    "LR_CRITIC = 3e-4        # learning rate of the critic\n",
    "WEIGHT_DECAY = 0   # L2 weight decay\n",
    "\n",
    "ACTOR_HL_SIZE= [256, 128]         #Actor Hidden layers\n",
    "CRITIC_HL_SIZE= [256, 128]        #Critic Hidden layers\n",
    "\n",
    "\n",
    "model_num = \"512_256_128_1e-4_3e-4_2\"                 #Model Number\n",
    "\n",
    "MADDPG_agent = Agent (num_agents, state_size, action_size, 0,\n",
    "               BUFFER_SIZE, BATCH_SIZE, GAMMA, TAU, LR_ACTOR, LR_CRITIC, WEIGHT_DECAY,\n",
    "              ACTOR_HL_SIZE, CRITIC_HL_SIZE)\n",
    "\n",
    "MADDPG_agent.actor_local_1.load_state_dict(torch.load('actor_model_1_{}.pth'.format(model_num)))\n",
    "MADDPG_agent.critic_local_1.load_state_dict(torch.load('critic_model_1_{}.pth'.format(model_num)))\n",
    "MADDPG_agent.actor_local_2.load_state_dict(torch.load('actor_model_2_{}.pth'.format(model_num)))\n",
    "MADDPG_agent.critic_local_2.load_state_dict(torch.load('critic_model_2_{}.pth'.format(model_num)))\n",
    "\n",
    "\n",
    "run_smart_agent(MADDPG_agent)"
   ]
  },
  {
   "cell_type": "code",
   "execution_count": null,
   "metadata": {},
   "outputs": [],
   "source": [
    "env.close()"
   ]
  }
 ],
 "metadata": {
  "kernelspec": {
   "display_name": "drlnd",
   "language": "python",
   "name": "drlnd"
  },
  "language_info": {
   "codemirror_mode": {
    "name": "ipython",
    "version": 3
   },
   "file_extension": ".py",
   "mimetype": "text/x-python",
   "name": "python",
   "nbconvert_exporter": "python",
   "pygments_lexer": "ipython3",
   "version": "3.6.8"
  },
  "toc": {
   "base_numbering": 1,
   "nav_menu": {},
   "number_sections": true,
   "sideBar": true,
   "skip_h1_title": false,
   "title_cell": "Table of Contents",
   "title_sidebar": "Contents",
   "toc_cell": false,
   "toc_position": {},
   "toc_section_display": true,
   "toc_window_display": false
  }
 },
 "nbformat": 4,
 "nbformat_minor": 2
}
